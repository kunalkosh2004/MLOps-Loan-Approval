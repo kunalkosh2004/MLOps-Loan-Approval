{
 "cells": [
  {
   "cell_type": "code",
   "execution_count": 77,
   "metadata": {},
   "outputs": [],
   "source": [
    "import pandas as pd\n",
    "import numpy as np\n",
    "import matplotlib.pyplot as plt\n",
    "import seaborn as sns\n",
    "sns.set_theme(style=\"whitegrid\")\n",
    "sns.set_palette(\"bright\")"
   ]
  },
  {
   "cell_type": "code",
   "execution_count": 78,
   "metadata": {},
   "outputs": [],
   "source": [
    "df = pd.read_csv('loan_data.csv')"
   ]
  },
  {
   "cell_type": "code",
   "execution_count": 79,
   "metadata": {},
   "outputs": [
    {
     "data": {
      "text/html": [
       "<div>\n",
       "<style scoped>\n",
       "    .dataframe tbody tr th:only-of-type {\n",
       "        vertical-align: middle;\n",
       "    }\n",
       "\n",
       "    .dataframe tbody tr th {\n",
       "        vertical-align: top;\n",
       "    }\n",
       "\n",
       "    .dataframe thead th {\n",
       "        text-align: right;\n",
       "    }\n",
       "</style>\n",
       "<table border=\"1\" class=\"dataframe\">\n",
       "  <thead>\n",
       "    <tr style=\"text-align: right;\">\n",
       "      <th></th>\n",
       "      <th>person_age</th>\n",
       "      <th>person_gender</th>\n",
       "      <th>person_education</th>\n",
       "      <th>person_income</th>\n",
       "      <th>person_emp_exp</th>\n",
       "      <th>person_home_ownership</th>\n",
       "      <th>loan_amnt</th>\n",
       "      <th>loan_intent</th>\n",
       "      <th>loan_int_rate</th>\n",
       "      <th>loan_percent_income</th>\n",
       "      <th>cb_person_cred_hist_length</th>\n",
       "      <th>credit_score</th>\n",
       "      <th>previous_loan_defaults_on_file</th>\n",
       "      <th>loan_status</th>\n",
       "    </tr>\n",
       "  </thead>\n",
       "  <tbody>\n",
       "    <tr>\n",
       "      <th>0</th>\n",
       "      <td>22.0</td>\n",
       "      <td>female</td>\n",
       "      <td>Master</td>\n",
       "      <td>71948.0</td>\n",
       "      <td>0</td>\n",
       "      <td>RENT</td>\n",
       "      <td>35000.0</td>\n",
       "      <td>PERSONAL</td>\n",
       "      <td>16.02</td>\n",
       "      <td>0.49</td>\n",
       "      <td>3.0</td>\n",
       "      <td>561</td>\n",
       "      <td>No</td>\n",
       "      <td>1</td>\n",
       "    </tr>\n",
       "    <tr>\n",
       "      <th>1</th>\n",
       "      <td>21.0</td>\n",
       "      <td>female</td>\n",
       "      <td>High School</td>\n",
       "      <td>12282.0</td>\n",
       "      <td>0</td>\n",
       "      <td>OWN</td>\n",
       "      <td>1000.0</td>\n",
       "      <td>EDUCATION</td>\n",
       "      <td>11.14</td>\n",
       "      <td>0.08</td>\n",
       "      <td>2.0</td>\n",
       "      <td>504</td>\n",
       "      <td>Yes</td>\n",
       "      <td>0</td>\n",
       "    </tr>\n",
       "    <tr>\n",
       "      <th>2</th>\n",
       "      <td>25.0</td>\n",
       "      <td>female</td>\n",
       "      <td>High School</td>\n",
       "      <td>12438.0</td>\n",
       "      <td>3</td>\n",
       "      <td>MORTGAGE</td>\n",
       "      <td>5500.0</td>\n",
       "      <td>MEDICAL</td>\n",
       "      <td>12.87</td>\n",
       "      <td>0.44</td>\n",
       "      <td>3.0</td>\n",
       "      <td>635</td>\n",
       "      <td>No</td>\n",
       "      <td>1</td>\n",
       "    </tr>\n",
       "    <tr>\n",
       "      <th>3</th>\n",
       "      <td>23.0</td>\n",
       "      <td>female</td>\n",
       "      <td>Bachelor</td>\n",
       "      <td>79753.0</td>\n",
       "      <td>0</td>\n",
       "      <td>RENT</td>\n",
       "      <td>35000.0</td>\n",
       "      <td>MEDICAL</td>\n",
       "      <td>15.23</td>\n",
       "      <td>0.44</td>\n",
       "      <td>2.0</td>\n",
       "      <td>675</td>\n",
       "      <td>No</td>\n",
       "      <td>1</td>\n",
       "    </tr>\n",
       "    <tr>\n",
       "      <th>4</th>\n",
       "      <td>24.0</td>\n",
       "      <td>male</td>\n",
       "      <td>Master</td>\n",
       "      <td>66135.0</td>\n",
       "      <td>1</td>\n",
       "      <td>RENT</td>\n",
       "      <td>35000.0</td>\n",
       "      <td>MEDICAL</td>\n",
       "      <td>14.27</td>\n",
       "      <td>0.53</td>\n",
       "      <td>4.0</td>\n",
       "      <td>586</td>\n",
       "      <td>No</td>\n",
       "      <td>1</td>\n",
       "    </tr>\n",
       "  </tbody>\n",
       "</table>\n",
       "</div>"
      ],
      "text/plain": [
       "   person_age person_gender person_education  person_income  person_emp_exp  \\\n",
       "0        22.0        female           Master        71948.0               0   \n",
       "1        21.0        female      High School        12282.0               0   \n",
       "2        25.0        female      High School        12438.0               3   \n",
       "3        23.0        female         Bachelor        79753.0               0   \n",
       "4        24.0          male           Master        66135.0               1   \n",
       "\n",
       "  person_home_ownership  loan_amnt loan_intent  loan_int_rate  \\\n",
       "0                  RENT    35000.0    PERSONAL          16.02   \n",
       "1                   OWN     1000.0   EDUCATION          11.14   \n",
       "2              MORTGAGE     5500.0     MEDICAL          12.87   \n",
       "3                  RENT    35000.0     MEDICAL          15.23   \n",
       "4                  RENT    35000.0     MEDICAL          14.27   \n",
       "\n",
       "   loan_percent_income  cb_person_cred_hist_length  credit_score  \\\n",
       "0                 0.49                         3.0           561   \n",
       "1                 0.08                         2.0           504   \n",
       "2                 0.44                         3.0           635   \n",
       "3                 0.44                         2.0           675   \n",
       "4                 0.53                         4.0           586   \n",
       "\n",
       "  previous_loan_defaults_on_file  loan_status  \n",
       "0                             No            1  \n",
       "1                            Yes            0  \n",
       "2                             No            1  \n",
       "3                             No            1  \n",
       "4                             No            1  "
      ]
     },
     "execution_count": 79,
     "metadata": {},
     "output_type": "execute_result"
    }
   ],
   "source": [
    "df.head()"
   ]
  },
  {
   "cell_type": "markdown",
   "metadata": {},
   "source": [
    "### DATA CLEANING"
   ]
  },
  {
   "cell_type": "code",
   "execution_count": 80,
   "metadata": {},
   "outputs": [
    {
     "name": "stdout",
     "output_type": "stream",
     "text": [
      "<class 'pandas.core.frame.DataFrame'>\n",
      "RangeIndex: 45000 entries, 0 to 44999\n",
      "Data columns (total 14 columns):\n",
      " #   Column                          Non-Null Count  Dtype  \n",
      "---  ------                          --------------  -----  \n",
      " 0   person_age                      45000 non-null  float64\n",
      " 1   person_gender                   45000 non-null  object \n",
      " 2   person_education                45000 non-null  object \n",
      " 3   person_income                   45000 non-null  float64\n",
      " 4   person_emp_exp                  45000 non-null  int64  \n",
      " 5   person_home_ownership           45000 non-null  object \n",
      " 6   loan_amnt                       45000 non-null  float64\n",
      " 7   loan_intent                     45000 non-null  object \n",
      " 8   loan_int_rate                   45000 non-null  float64\n",
      " 9   loan_percent_income             45000 non-null  float64\n",
      " 10  cb_person_cred_hist_length      45000 non-null  float64\n",
      " 11  credit_score                    45000 non-null  int64  \n",
      " 12  previous_loan_defaults_on_file  45000 non-null  object \n",
      " 13  loan_status                     45000 non-null  int64  \n",
      "dtypes: float64(6), int64(3), object(5)\n",
      "memory usage: 4.8+ MB\n"
     ]
    }
   ],
   "source": [
    "df.info()"
   ]
  },
  {
   "cell_type": "code",
   "execution_count": 81,
   "metadata": {},
   "outputs": [
    {
     "data": {
      "text/plain": [
       "person_age                        0\n",
       "person_gender                     0\n",
       "person_education                  0\n",
       "person_income                     0\n",
       "person_emp_exp                    0\n",
       "person_home_ownership             0\n",
       "loan_amnt                         0\n",
       "loan_intent                       0\n",
       "loan_int_rate                     0\n",
       "loan_percent_income               0\n",
       "cb_person_cred_hist_length        0\n",
       "credit_score                      0\n",
       "previous_loan_defaults_on_file    0\n",
       "loan_status                       0\n",
       "dtype: int64"
      ]
     },
     "execution_count": 81,
     "metadata": {},
     "output_type": "execute_result"
    }
   ],
   "source": [
    "df.isna().sum()"
   ]
  },
  {
   "cell_type": "code",
   "execution_count": 82,
   "metadata": {},
   "outputs": [
    {
     "data": {
      "text/plain": [
       "0"
      ]
     },
     "execution_count": 82,
     "metadata": {},
     "output_type": "execute_result"
    }
   ],
   "source": [
    "df.duplicated().sum()"
   ]
  },
  {
   "cell_type": "markdown",
   "metadata": {},
   "source": [
    "## SPLITING IN X AND y"
   ]
  },
  {
   "cell_type": "code",
   "execution_count": 83,
   "metadata": {},
   "outputs": [],
   "source": [
    "X = df.drop(columns=['loan_status'])\n",
    "y = df['loan_status']"
   ]
  },
  {
   "cell_type": "code",
   "execution_count": 84,
   "metadata": {},
   "outputs": [],
   "source": [
    "categorical_features = [col for col in X.columns if df[col].dtypes=='O']"
   ]
  },
  {
   "cell_type": "code",
   "execution_count": 85,
   "metadata": {},
   "outputs": [],
   "source": [
    "numerical_features = [col for col in X.columns if df[col].dtypes!='O']"
   ]
  },
  {
   "cell_type": "code",
   "execution_count": 86,
   "metadata": {},
   "outputs": [
    {
     "data": {
      "text/plain": [
       "0"
      ]
     },
     "execution_count": 86,
     "metadata": {},
     "output_type": "execute_result"
    }
   ],
   "source": [
    "discrete_features = [col for col in numerical_features if len(df[col].unique())<=10]\n",
    "len(discrete_features)"
   ]
  },
  {
   "cell_type": "code",
   "execution_count": 87,
   "metadata": {},
   "outputs": [
    {
     "data": {
      "text/plain": [
       "8"
      ]
     },
     "execution_count": 87,
     "metadata": {},
     "output_type": "execute_result"
    }
   ],
   "source": [
    "continuous_features = [col for col in numerical_features if len(df[col].unique())>=10]\n",
    "len(continuous_features)"
   ]
  },
  {
   "cell_type": "code",
   "execution_count": 88,
   "metadata": {},
   "outputs": [
    {
     "data": {
      "text/plain": [
       "dtype('int64')"
      ]
     },
     "execution_count": 88,
     "metadata": {},
     "output_type": "execute_result"
    }
   ],
   "source": [
    "y.dtypes"
   ]
  },
  {
   "cell_type": "markdown",
   "metadata": {},
   "source": [
    "### FEATURES TRANSFORMATION"
   ]
  },
  {
   "cell_type": "code",
   "execution_count": 89,
   "metadata": {},
   "outputs": [
    {
     "data": {
      "image/png": "[encoded data removed]",
      "text/plain": [
       "<Figure size 1000x800 with 9 Axes>"
      ]
     },
     "metadata": {},
     "output_type": "display_data"
    }
   ],
   "source": [
    "fig, axes = plt.subplots(nrows=3, ncols=3, figsize=(10, 8)) \n",
    "\n",
    "for ax, col in zip(axes.flat, numerical_features):\n",
    "    sns.histplot(df[col],ax=ax,bins=20,kde=True)\n",
    "    ax.set_title(f\"HistPlot of {col}\")\n",
    "fig.subplots_adjust(wspace=0.7, hspace=0.7)"
   ]
  },
  {
   "cell_type": "markdown",
   "metadata": {},
   "source": [
    "Here **person_age, person_income, person_emp_exp, cb_person_cred_hist_length** are skewed"
   ]
  },
  {
   "cell_type": "code",
   "execution_count": 90,
   "metadata": {},
   "outputs": [
    {
     "data": {
      "text/plain": [
       "dtype('float64')"
      ]
     },
     "execution_count": 90,
     "metadata": {},
     "output_type": "execute_result"
    }
   ],
   "source": [
    "df['person_age'].dtype"
   ]
  },
  {
   "cell_type": "code",
   "execution_count": 91,
   "metadata": {},
   "outputs": [
    {
     "data": {
      "text/plain": [
       "person_age                     2.548154\n",
       "person_income                 34.137583\n",
       "person_emp_exp                 2.594917\n",
       "loan_amnt                      1.179731\n",
       "loan_int_rate                  0.213784\n",
       "loan_percent_income            1.034512\n",
       "cb_person_cred_hist_length     1.631720\n",
       "credit_score                  -0.610261\n",
       "dtype: float64"
      ]
     },
     "execution_count": 91,
     "metadata": {},
     "output_type": "execute_result"
    }
   ],
   "source": [
    "# Check Skewness\n",
    "X[continuous_features].skew(axis=0, skipna=True)"
   ]
  },
  {
   "cell_type": "code",
   "execution_count": 92,
   "metadata": {},
   "outputs": [],
   "source": [
    "from sklearn.preprocessing import PowerTransformer\n",
    "\n",
    "pt = PowerTransformer(method = \"yeo-johnson\")\n",
    "transform_features = [\"person_age\", \"person_income\", \"person_emp_exp\", \"cb_person_cred_hist_length\"]\n",
    "X_copy = pt.fit_transform(X[transform_features])"
   ]
  },
  {
   "cell_type": "code",
   "execution_count": 93,
   "metadata": {},
   "outputs": [],
   "source": [
    "X_copy = pd.DataFrame(X_copy,columns=transform_features)"
   ]
  },
  {
   "cell_type": "code",
   "execution_count": 94,
   "metadata": {},
   "outputs": [
    {
     "data": {
      "text/plain": [
       "person_age                    0.139352\n",
       "person_income                -0.017895\n",
       "person_emp_exp               -0.021322\n",
       "cb_person_cred_hist_length    0.073157\n",
       "dtype: float64"
      ]
     },
     "execution_count": 94,
     "metadata": {},
     "output_type": "execute_result"
    }
   ],
   "source": [
    "X_copy.skew(axis=0, skipna=True)"
   ]
  },
  {
   "cell_type": "markdown",
   "metadata": {},
   "source": [
    "### YES PowerTransformer can be applied"
   ]
  },
  {
   "cell_type": "code",
   "execution_count": 95,
   "metadata": {},
   "outputs": [
    {
     "data": {
      "text/plain": [
       "['person_gender',\n",
       " 'person_education',\n",
       " 'person_home_ownership',\n",
       " 'loan_intent',\n",
       " 'previous_loan_defaults_on_file']"
      ]
     },
     "execution_count": 95,
     "metadata": {},
     "output_type": "execute_result"
    }
   ],
   "source": [
    "categorical_features"
   ]
  },
  {
   "cell_type": "code",
   "execution_count": 96,
   "metadata": {},
   "outputs": [
    {
     "data": {
      "text/plain": [
       "8"
      ]
     },
     "execution_count": 96,
     "metadata": {},
     "output_type": "execute_result"
    }
   ],
   "source": [
    "len(numerical_features)"
   ]
  },
  {
   "cell_type": "code",
   "execution_count": 97,
   "metadata": {},
   "outputs": [],
   "source": [
    "or_columns = ['person_gender','previous_loan_defaults_on_file']\n",
    "oh_columns = ['person_education','person_home_ownership','loan_intent']\n",
    "num_features = numerical_features\n",
    "\n",
    "from sklearn.preprocessing import OneHotEncoder, OrdinalEncoder, StandardScaler, PowerTransformer\n",
    "from sklearn.compose import ColumnTransformer\n",
    "from sklearn.pipeline import Pipeline\n",
    "\n",
    "numeric_transformer = StandardScaler()\n",
    "oh_transformer = OneHotEncoder()\n",
    "or_transformer = OrdinalEncoder()\n",
    "\n",
    "transform_pipe = Pipeline(steps=[\n",
    "    ('transformer', PowerTransformer(method='yeo-johnson'))\n",
    "])\n",
    "\n",
    "preprocessor = ColumnTransformer([\n",
    "    ('OneHotEncoder',oh_transformer,oh_columns),\n",
    "    ('OrdinalEncoder',or_transformer,or_columns),\n",
    "    ('Transformer',transform_pipe,transform_features),\n",
    "    ('StandardScaler',numeric_transformer,num_features)\n",
    "],remainder=\"passthrough\")\n"
   ]
  },
  {
   "cell_type": "code",
   "execution_count": 98,
   "metadata": {},
   "outputs": [],
   "source": [
    "X = preprocessor.fit_transform(X)"
   ]
  },
  {
   "cell_type": "markdown",
   "metadata": {},
   "source": [
    "**Smoothing the data for balancing**"
   ]
  },
  {
   "cell_type": "code",
   "execution_count": 99,
   "metadata": {},
   "outputs": [],
   "source": [
    "from imblearn.combine import SMOTEENN\n",
    "\n",
    "smt = SMOTEENN(random_state=42,sampling_strategy='minority')\n",
    "X_res, y_res = smt.fit_resample(X, y)"
   ]
  },
  {
   "cell_type": "code",
   "execution_count": 137,
   "metadata": {},
   "outputs": [
    {
     "data": {
      "text/plain": [
       "loan_status\n",
       "1    33129\n",
       "0    26600\n",
       "Name: count, dtype: int64"
      ]
     },
     "execution_count": 137,
     "metadata": {},
     "output_type": "execute_result"
    }
   ],
   "source": [
    "y_res.value_counts()"
   ]
  },
  {
   "cell_type": "markdown",
   "metadata": {},
   "source": [
    "## Train-Test Split"
   ]
  },
  {
   "cell_type": "code",
   "execution_count": 100,
   "metadata": {},
   "outputs": [],
   "source": [
    "from sklearn.model_selection import train_test_split"
   ]
  },
  {
   "cell_type": "code",
   "execution_count": 101,
   "metadata": {},
   "outputs": [],
   "source": [
    "X_train,X_test,y_train,y_test = train_test_split(X_res,y_res,test_size=0.2,random_state=42)"
   ]
  },
  {
   "cell_type": "code",
   "execution_count": 105,
   "metadata": {},
   "outputs": [],
   "source": [
    "from sklearn.ensemble import RandomForestClassifier, AdaBoostClassifier, GradientBoostingClassifier\n",
    "from sklearn.linear_model import LogisticRegression\n",
    "from sklearn.neighbors import KNeighborsClassifier\n",
    "from sklearn.tree import DecisionTreeClassifier\n",
    "from sklearn.svm import SVC\n",
    "from sklearn.metrics import accuracy_score, classification_report,ConfusionMatrixDisplay, \\\n",
    "                            precision_score, recall_score, f1_score, roc_auc_score,roc_curve \n",
    "from xgboost import XGBClassifier"
   ]
  },
  {
   "cell_type": "code",
   "execution_count": 106,
   "metadata": {},
   "outputs": [],
   "source": [
    "def evaluate_clf(true, predicted):\n",
    "    acc = accuracy_score(true, predicted) # Calculate Accuracy\n",
    "    f1 = f1_score(true, predicted) # Calculate F1-score\n",
    "    precision = precision_score(true, predicted) # Calculate Precision\n",
    "    recall = recall_score(true, predicted)  # Calculate Recall\n",
    "    roc_auc = roc_auc_score(true, predicted) #Calculate Roc\n",
    "    return acc, f1 , precision, recall, roc_auc"
   ]
  },
  {
   "cell_type": "code",
   "execution_count": 109,
   "metadata": {},
   "outputs": [],
   "source": [
    "models = {\n",
    "    \"Random Forest\": RandomForestClassifier(),\n",
    "    \"Decision Tree\": DecisionTreeClassifier(),\n",
    "    \"Gradient Boosting\": GradientBoostingClassifier(),\n",
    "    \"Logistic Regression\": LogisticRegression(),\n",
    "    \"K-Neighbors Classifier\": KNeighborsClassifier(),\n",
    "    \"XGBClassifier\": XGBClassifier(), \n",
    "    \"Support Vector Classifier\": SVC(),\n",
    "    \"AdaBoost Classifier\": AdaBoostClassifier()\n",
    "}"
   ]
  },
  {
   "cell_type": "code",
   "execution_count": 114,
   "metadata": {},
   "outputs": [],
   "source": [
    "def evaluate_models(X,y,models):\n",
    "    \n",
    "    X_train,X_test,y_train,y_test = train_test_split(X,y,test_size=0.2,random_state=42)\n",
    "    model_list = []\n",
    "    accuracy_list = []\n",
    "    auc = []\n",
    "    \n",
    "    for i in range(len(list(models))):\n",
    "        model = list(models.values())[i]\n",
    "        model.fit(X_train,y_train)\n",
    "        \n",
    "        y_train_pred = model.predict(X_train)\n",
    "        y_test_pred = model.predict(X_test)\n",
    "        \n",
    "        model_train_accuracy, model_train_f1,model_train_precision,\\\n",
    "        model_train_recall,model_train_rocauc_score=evaluate_clf(y_train ,y_train_pred)\n",
    "        \n",
    "        model_test_accuracy,model_test_f1,model_test_precision,\\\n",
    "        model_test_recall,model_test_rocauc_score=evaluate_clf(y_test, y_test_pred)\n",
    "        \n",
    "        print(list(models.keys())[i])\n",
    "        model_list.append(list(models.keys())[i])\n",
    "        \n",
    "        print('Model performance for Training set')\n",
    "        print(\"- Accuracy: {:.4f}\".format(model_train_accuracy))\n",
    "        print('- F1 score: {:.4f}'.format(model_train_f1)) \n",
    "        print('- Precision: {:.4f}'.format(model_train_precision))\n",
    "        print('- Recall: {:.4f}'.format(model_train_recall))\n",
    "        print('- Roc Auc Score: {:.4f}'.format(model_train_rocauc_score))\n",
    "\n",
    "        print('----------------------------------')\n",
    "\n",
    "        print('Model performance for Test set')\n",
    "        print('- Accuracy: {:.4f}'.format(model_test_accuracy))\n",
    "        accuracy_list.append(model_test_accuracy)\n",
    "        print('- F1 score: {:.4f}'.format(model_test_f1))\n",
    "        print('- Precision: {:.4f}'.format(model_test_precision))\n",
    "        print('- Recall: {:.4f}'.format(model_test_recall))\n",
    "        print('- Roc Auc Score: {:.4f}'.format(model_test_rocauc_score))\n",
    "        auc.append(model_test_rocauc_score)\n",
    "        print('='*35)\n",
    "        print('\\n')\n",
    "        \n",
    "    report=pd.DataFrame(list(zip(model_list, accuracy_list)), columns=['Model Name', 'Accuracy']).sort_values(by=['Accuracy'], ascending=False)\n",
    "        \n",
    "    return report\n",
    "        "
   ]
  },
  {
   "cell_type": "code",
   "execution_count": 115,
   "metadata": {},
   "outputs": [
    {
     "name": "stdout",
     "output_type": "stream",
     "text": [
      "Random Forest\n",
      "Model performance for Training set\n",
      "- Accuracy: 1.0000\n",
      "- F1 score: 1.0000\n",
      "- Precision: 1.0000\n",
      "- Recall: 1.0000\n",
      "- Roc Auc Score: 1.0000\n",
      "----------------------------------\n",
      "Model performance for Test set\n",
      "- Accuracy: 0.9814\n",
      "- F1 score: 0.9835\n",
      "- Precision: 0.9777\n",
      "- Recall: 0.9894\n",
      "- Roc Auc Score: 0.9803\n",
      "===================================\n",
      "\n",
      "\n",
      "Decision Tree\n",
      "Model performance for Training set\n",
      "- Accuracy: 1.0000\n",
      "- F1 score: 1.0000\n",
      "- Precision: 1.0000\n",
      "- Recall: 1.0000\n",
      "- Roc Auc Score: 1.0000\n",
      "----------------------------------\n",
      "Model performance for Test set\n",
      "- Accuracy: 0.9607\n",
      "- F1 score: 0.9649\n",
      "- Precision: 0.9641\n",
      "- Recall: 0.9656\n",
      "- Roc Auc Score: 0.9600\n",
      "===================================\n",
      "\n",
      "\n",
      "Gradient Boosting\n",
      "Model performance for Training set\n",
      "- Accuracy: 0.9599\n",
      "- F1 score: 0.9642\n",
      "- Precision: 0.9536\n",
      "- Recall: 0.9751\n",
      "- Roc Auc Score: 0.9581\n",
      "----------------------------------\n",
      "Model performance for Test set\n",
      "- Accuracy: 0.9597\n",
      "- F1 score: 0.9644\n",
      "- Precision: 0.9551\n",
      "- Recall: 0.9738\n",
      "- Roc Auc Score: 0.9578\n",
      "===================================\n",
      "\n",
      "\n",
      "Logistic Regression\n",
      "Model performance for Training set\n",
      "- Accuracy: 0.9457\n",
      "- F1 score: 0.9518\n",
      "- Precision: 0.9365\n",
      "- Recall: 0.9675\n",
      "- Roc Auc Score: 0.9431\n",
      "----------------------------------\n",
      "Model performance for Test set\n",
      "- Accuracy: 0.9455\n",
      "- F1 score: 0.9521\n",
      "- Precision: 0.9368\n",
      "- Recall: 0.9678\n",
      "- Roc Auc Score: 0.9425\n",
      "===================================\n",
      "\n",
      "\n",
      "K-Neighbors Classifier\n",
      "Model performance for Training set\n",
      "- Accuracy: 0.9922\n",
      "- F1 score: 0.9930\n",
      "- Precision: 0.9869\n",
      "- Recall: 0.9991\n",
      "- Roc Auc Score: 0.9914\n",
      "----------------------------------\n",
      "Model performance for Test set\n",
      "- Accuracy: 0.9797\n",
      "- F1 score: 0.9821\n",
      "- Precision: 0.9684\n",
      "- Recall: 0.9963\n",
      "- Roc Auc Score: 0.9775\n",
      "===================================\n",
      "\n",
      "\n",
      "XGBClassifier\n",
      "Model performance for Training set\n",
      "- Accuracy: 0.9940\n",
      "- F1 score: 0.9946\n",
      "- Precision: 0.9954\n",
      "- Recall: 0.9937\n",
      "- Roc Auc Score: 0.9940\n",
      "----------------------------------\n",
      "Model performance for Test set\n",
      "- Accuracy: 0.9777\n",
      "- F1 score: 0.9801\n",
      "- Precision: 0.9799\n",
      "- Recall: 0.9802\n",
      "- Roc Auc Score: 0.9774\n",
      "===================================\n",
      "\n",
      "\n",
      "Support Vector Classifier\n",
      "Model performance for Training set\n",
      "- Accuracy: 0.9622\n",
      "- F1 score: 0.9663\n",
      "- Precision: 0.9537\n",
      "- Recall: 0.9792\n",
      "- Roc Auc Score: 0.9601\n",
      "----------------------------------\n",
      "Model performance for Test set\n",
      "- Accuracy: 0.9612\n",
      "- F1 score: 0.9658\n",
      "- Precision: 0.9536\n",
      "- Recall: 0.9783\n",
      "- Roc Auc Score: 0.9589\n",
      "===================================\n",
      "\n",
      "\n"
     ]
    },
    {
     "name": "stderr",
     "output_type": "stream",
     "text": [
      "/opt/anaconda3/lib/python3.12/site-packages/sklearn/ensemble/_weight_boosting.py:527: FutureWarning: The SAMME.R algorithm (the default) is deprecated and will be removed in 1.6. Use the SAMME algorithm to circumvent this warning.\n",
      "  warnings.warn(\n"
     ]
    },
    {
     "name": "stdout",
     "output_type": "stream",
     "text": [
      "AdaBoost Classifier\n",
      "Model performance for Training set\n",
      "- Accuracy: 0.9547\n",
      "- F1 score: 0.9594\n",
      "- Precision: 0.9523\n",
      "- Recall: 0.9665\n",
      "- Roc Auc Score: 0.9533\n",
      "----------------------------------\n",
      "Model performance for Test set\n",
      "- Accuracy: 0.9538\n",
      "- F1 score: 0.9588\n",
      "- Precision: 0.9554\n",
      "- Recall: 0.9623\n",
      "- Roc Auc Score: 0.9527\n",
      "===================================\n",
      "\n",
      "\n"
     ]
    }
   ],
   "source": [
    "base_model_report = evaluate_models(X_res,y_res,models)"
   ]
  },
  {
   "cell_type": "code",
   "execution_count": 116,
   "metadata": {},
   "outputs": [
    {
     "data": {
      "text/html": [
       "<div>\n",
       "<style scoped>\n",
       "    .dataframe tbody tr th:only-of-type {\n",
       "        vertical-align: middle;\n",
       "    }\n",
       "\n",
       "    .dataframe tbody tr th {\n",
       "        vertical-align: top;\n",
       "    }\n",
       "\n",
       "    .dataframe thead th {\n",
       "        text-align: right;\n",
       "    }\n",
       "</style>\n",
       "<table border=\"1\" class=\"dataframe\">\n",
       "  <thead>\n",
       "    <tr style=\"text-align: right;\">\n",
       "      <th></th>\n",
       "      <th>Model Name</th>\n",
       "      <th>Accuracy</th>\n",
       "    </tr>\n",
       "  </thead>\n",
       "  <tbody>\n",
       "    <tr>\n",
       "      <th>0</th>\n",
       "      <td>Random Forest</td>\n",
       "      <td>0.981416</td>\n",
       "    </tr>\n",
       "    <tr>\n",
       "      <th>4</th>\n",
       "      <td>K-Neighbors Classifier</td>\n",
       "      <td>0.979742</td>\n",
       "    </tr>\n",
       "    <tr>\n",
       "      <th>5</th>\n",
       "      <td>XGBClassifier</td>\n",
       "      <td>0.977733</td>\n",
       "    </tr>\n",
       "    <tr>\n",
       "      <th>6</th>\n",
       "      <td>Support Vector Classifier</td>\n",
       "      <td>0.961242</td>\n",
       "    </tr>\n",
       "    <tr>\n",
       "      <th>1</th>\n",
       "      <td>Decision Tree</td>\n",
       "      <td>0.960656</td>\n",
       "    </tr>\n",
       "    <tr>\n",
       "      <th>2</th>\n",
       "      <td>Gradient Boosting</td>\n",
       "      <td>0.959735</td>\n",
       "    </tr>\n",
       "    <tr>\n",
       "      <th>7</th>\n",
       "      <td>AdaBoost Classifier</td>\n",
       "      <td>0.953792</td>\n",
       "    </tr>\n",
       "    <tr>\n",
       "      <th>3</th>\n",
       "      <td>Logistic Regression</td>\n",
       "      <td>0.945505</td>\n",
       "    </tr>\n",
       "  </tbody>\n",
       "</table>\n",
       "</div>"
      ],
      "text/plain": [
       "                  Model Name  Accuracy\n",
       "0              Random Forest  0.981416\n",
       "4     K-Neighbors Classifier  0.979742\n",
       "5              XGBClassifier  0.977733\n",
       "6  Support Vector Classifier  0.961242\n",
       "1              Decision Tree  0.960656\n",
       "2          Gradient Boosting  0.959735\n",
       "7        AdaBoost Classifier  0.953792\n",
       "3        Logistic Regression  0.945505"
      ]
     },
     "execution_count": 116,
     "metadata": {},
     "output_type": "execute_result"
    }
   ],
   "source": [
    "base_model_report"
   ]
  },
  {
   "cell_type": "markdown",
   "metadata": {},
   "source": [
    "### Here we can use Random Forest for Hyper Parameter Tuning\n",
    "\n",
    "### Define the parameter distribution for Random forest"
   ]
  },
  {
   "cell_type": "code",
   "execution_count": 124,
   "metadata": {},
   "outputs": [],
   "source": [
    "xgboost_params = {\n",
    "    'max_depth':range(3,10,2),\n",
    "    'min_child_weight':range(1,6,2)\n",
    "}\n",
    "\n",
    "rf_params = {\n",
    "    \"max_depth\": [10, None, 15, 20],\n",
    "    \"max_features\": ['sqrt', 'log2', None],\n",
    "    \"n_estimators\": [50, 100, 200]\n",
    "}\n",
    "\n",
    "knn_params = {\n",
    "    \"algorithm\": ['auto', 'ball_tree', 'kd_tree'],\n",
    "    \"weights\": ['uniform', 'distance'],\n",
    "    \"n_neighbors\": [3, 5, 7, 9],\n",
    "}"
   ]
  },
  {
   "cell_type": "code",
   "execution_count": 125,
   "metadata": {},
   "outputs": [],
   "source": [
    "randomcv_models = [\n",
    "    ('XGBoost', XGBClassifier(), xgboost_params),\n",
    "    (\"RF\", RandomForestClassifier(), rf_params),\n",
    "    (\"KNN\", KNeighborsClassifier(), knn_params)\n",
    "]"
   ]
  },
  {
   "cell_type": "code",
   "execution_count": 127,
   "metadata": {},
   "outputs": [
    {
     "name": "stdout",
     "output_type": "stream",
     "text": [
      "Fitting 3 folds for each of 12 candidates, totalling 36 fits\n"
     ]
    },
    {
     "name": "stderr",
     "output_type": "stream",
     "text": [
      "/opt/anaconda3/lib/python3.12/site-packages/sklearn/model_selection/_search.py:320: UserWarning: The total space of parameters 12 is smaller than n_iter=100. Running 12 iterations. For exhaustive searches, use GridSearchCV.\n",
      "  warnings.warn(\n"
     ]
    },
    {
     "name": "stdout",
     "output_type": "stream",
     "text": [
      "[CV] END ....................max_depth=3, min_child_weight=1; total time=   1.0s\n",
      "[CV] END ....................max_depth=3, min_child_weight=3; total time=   1.0s\n",
      "[CV] END ....................max_depth=3, min_child_weight=3; total time=   1.0s\n",
      "[CV] END ....................max_depth=3, min_child_weight=1; total time=   1.0s\n",
      "[CV] END ....................max_depth=3, min_child_weight=3; total time=   1.0s\n",
      "[CV] END ....................max_depth=3, min_child_weight=1; total time=   1.1s\n",
      "[CV] END ....................max_depth=3, min_child_weight=5; total time=   1.0s\n",
      "[CV] END ....................max_depth=3, min_child_weight=5; total time=   1.0s\n",
      "[CV] END ....................max_depth=3, min_child_weight=5; total time=   1.0s\n",
      "[CV] END ....................max_depth=5, min_child_weight=3; total time=   1.4s\n",
      "[CV] END ....................max_depth=5, min_child_weight=1; total time=   1.5s\n",
      "[CV] END ....................max_depth=5, min_child_weight=1; total time=   1.5s\n",
      "[CV] END ....................max_depth=5, min_child_weight=3; total time=   1.4s\n",
      "[CV] END ....................max_depth=5, min_child_weight=3; total time=   1.5s\n",
      "[CV] END ....................max_depth=5, min_child_weight=1; total time=   1.5s\n",
      "[CV] END ....................max_depth=5, min_child_weight=5; total time=   1.4s\n",
      "[CV] END ....................max_depth=5, min_child_weight=5; total time=   1.4s\n",
      "[CV] END ....................max_depth=5, min_child_weight=5; total time=   1.4s\n",
      "[CV] END ....................max_depth=7, min_child_weight=3; total time=   1.9s\n",
      "[CV] END ....................max_depth=7, min_child_weight=3; total time=   1.9s\n",
      "[CV] END ....................max_depth=7, min_child_weight=3; total time=   2.0s\n",
      "[CV] END ....................max_depth=7, min_child_weight=1; total time=   2.1s\n",
      "[CV] END ....................max_depth=7, min_child_weight=1; total time=   2.2s\n",
      "[CV] END ....................max_depth=7, min_child_weight=1; total time=   2.2s\n",
      "[CV] END ....................max_depth=7, min_child_weight=5; total time=   1.8s\n",
      "[CV] END ....................max_depth=7, min_child_weight=5; total time=   2.1s\n",
      "[CV] END ....................max_depth=7, min_child_weight=5; total time=   1.9s\n",
      "[CV] END ....................max_depth=9, min_child_weight=3; total time=   2.4s\n",
      "[CV] END ....................max_depth=9, min_child_weight=1; total time=   2.7s\n",
      "[CV] END ....................max_depth=9, min_child_weight=3; total time=   2.6s\n",
      "[CV] END ....................max_depth=9, min_child_weight=1; total time=   2.9s\n",
      "[CV] END ....................max_depth=9, min_child_weight=1; total time=   2.9s\n",
      "[CV] END ....................max_depth=9, min_child_weight=3; total time=   2.5s\n",
      "[CV] END ....................max_depth=9, min_child_weight=5; total time=   1.9s\n",
      "[CV] END ....................max_depth=9, min_child_weight=5; total time=   1.7s\n",
      "[CV] END ....................max_depth=9, min_child_weight=5; total time=   1.2s\n"
     ]
    },
    {
     "name": "stderr",
     "output_type": "stream",
     "text": [
      "/opt/anaconda3/lib/python3.12/site-packages/sklearn/model_selection/_search.py:320: UserWarning: The total space of parameters 36 is smaller than n_iter=100. Running 36 iterations. For exhaustive searches, use GridSearchCV.\n",
      "  warnings.warn(\n"
     ]
    },
    {
     "name": "stdout",
     "output_type": "stream",
     "text": [
      "Fitting 3 folds for each of 36 candidates, totalling 108 fits\n",
      "[CV] END ...max_depth=10, max_features=sqrt, n_estimators=50; total time=   4.6s\n",
      "[CV] END ...max_depth=10, max_features=sqrt, n_estimators=50; total time=   4.8s\n",
      "[CV] END ...max_depth=10, max_features=sqrt, n_estimators=50; total time=   5.6s\n",
      "[CV] END ...max_depth=10, max_features=log2, n_estimators=50; total time=   4.6s\n",
      "[CV] END ..max_depth=10, max_features=sqrt, n_estimators=100; total time=   9.5s\n",
      "[CV] END ...max_depth=10, max_features=log2, n_estimators=50; total time=   4.1s\n",
      "[CV] END ..max_depth=10, max_features=sqrt, n_estimators=100; total time=   9.7s\n",
      "[CV] END ..max_depth=10, max_features=sqrt, n_estimators=100; total time=  11.2s\n",
      "[CV] END ...max_depth=10, max_features=log2, n_estimators=50; total time=   4.6s\n",
      "[CV] END ..max_depth=10, max_features=log2, n_estimators=100; total time=   8.5s\n",
      "[CV] END ..max_depth=10, max_features=log2, n_estimators=100; total time=   8.5s\n",
      "[CV] END ..max_depth=10, max_features=log2, n_estimators=100; total time=  10.0s\n",
      "[CV] END ..max_depth=10, max_features=sqrt, n_estimators=200; total time=  19.8s\n",
      "[CV] END ..max_depth=10, max_features=sqrt, n_estimators=200; total time=  22.7s\n",
      "[CV] END ..max_depth=10, max_features=sqrt, n_estimators=200; total time=  19.9s\n",
      "[CV] END ..max_depth=10, max_features=log2, n_estimators=200; total time=  17.1s\n",
      "[CV] END ..max_depth=10, max_features=log2, n_estimators=200; total time=  20.4s\n",
      "[CV] END ..max_depth=10, max_features=log2, n_estimators=200; total time=  16.9s\n",
      "[CV] END ...max_depth=10, max_features=None, n_estimators=50; total time=  21.1s\n",
      "[CV] END ...max_depth=10, max_features=None, n_estimators=50; total time=  21.2s\n",
      "[CV] END ...max_depth=10, max_features=None, n_estimators=50; total time=  26.3s\n",
      "[CV] END .max_depth=None, max_features=sqrt, n_estimators=50; total time=   6.2s\n",
      "[CV] END .max_depth=None, max_features=sqrt, n_estimators=50; total time=   5.4s\n",
      "[CV] END .max_depth=None, max_features=sqrt, n_estimators=50; total time=   6.1s\n",
      "[CV] END max_depth=None, max_features=sqrt, n_estimators=100; total time=  13.5s\n",
      "[CV] END ..max_depth=10, max_features=None, n_estimators=100; total time=  40.7s\n",
      "[CV] END max_depth=None, max_features=sqrt, n_estimators=100; total time=  11.9s\n",
      "[CV] END ..max_depth=10, max_features=None, n_estimators=100; total time=  40.5s\n",
      "[CV] END ..max_depth=10, max_features=None, n_estimators=100; total time=  52.6s\n",
      "[CV] END max_depth=None, max_features=sqrt, n_estimators=100; total time=  13.3s\n",
      "[CV] END .max_depth=None, max_features=log2, n_estimators=50; total time=   6.7s\n",
      "[CV] END .max_depth=None, max_features=log2, n_estimators=50; total time=   6.0s\n",
      "[CV] END .max_depth=None, max_features=log2, n_estimators=50; total time=   6.0s\n",
      "[CV] END max_depth=None, max_features=sqrt, n_estimators=200; total time=  25.9s\n",
      "[CV] END max_depth=None, max_features=sqrt, n_estimators=200; total time=  30.1s\n",
      "[CV] END max_depth=None, max_features=log2, n_estimators=100; total time=  12.6s\n",
      "[CV] END max_depth=None, max_features=sqrt, n_estimators=200; total time=  26.4s\n",
      "[CV] END max_depth=None, max_features=log2, n_estimators=100; total time=  10.5s\n",
      "[CV] END max_depth=None, max_features=log2, n_estimators=100; total time=  10.9s\n",
      "[CV] END max_depth=None, max_features=log2, n_estimators=200; total time=  21.6s\n",
      "[CV] END ..max_depth=10, max_features=None, n_estimators=200; total time= 1.4min\n",
      "[CV] END max_depth=None, max_features=log2, n_estimators=200; total time=  22.5s\n",
      "[CV] END max_depth=None, max_features=log2, n_estimators=200; total time=  25.6s\n",
      "[CV] END ..max_depth=10, max_features=None, n_estimators=200; total time= 1.4min\n",
      "[CV] END .max_depth=None, max_features=None, n_estimators=50; total time=  24.7s\n",
      "[CV] END .max_depth=None, max_features=None, n_estimators=50; total time=  31.8s\n",
      "[CV] END .max_depth=None, max_features=None, n_estimators=50; total time=  25.1s\n",
      "[CV] END ..max_depth=10, max_features=None, n_estimators=200; total time= 1.9min\n",
      "[CV] END ...max_depth=15, max_features=sqrt, n_estimators=50; total time=   6.2s\n",
      "[CV] END ...max_depth=15, max_features=sqrt, n_estimators=50; total time=   7.1s\n",
      "[CV] END ...max_depth=15, max_features=sqrt, n_estimators=50; total time=   6.2s\n",
      "[CV] END ..max_depth=15, max_features=sqrt, n_estimators=100; total time=  14.3s\n",
      "[CV] END ..max_depth=15, max_features=sqrt, n_estimators=100; total time=  12.2s\n",
      "[CV] END max_depth=None, max_features=None, n_estimators=100; total time=  50.5s\n",
      "[CV] END max_depth=None, max_features=None, n_estimators=100; total time=  50.4s\n",
      "[CV] END ..max_depth=15, max_features=sqrt, n_estimators=100; total time=  12.4s\n",
      "[CV] END ...max_depth=15, max_features=log2, n_estimators=50; total time=   5.4s\n",
      "[CV] END max_depth=None, max_features=None, n_estimators=100; total time= 1.1min\n",
      "[CV] END ...max_depth=15, max_features=log2, n_estimators=50; total time=   4.7s\n",
      "[CV] END ...max_depth=15, max_features=log2, n_estimators=50; total time=   4.6s\n",
      "[CV] END ..max_depth=15, max_features=sqrt, n_estimators=200; total time=  21.8s\n",
      "[CV] END ..max_depth=15, max_features=sqrt, n_estimators=200; total time=  21.9s\n",
      "[CV] END ..max_depth=15, max_features=sqrt, n_estimators=200; total time=  26.4s\n",
      "[CV] END ..max_depth=15, max_features=log2, n_estimators=100; total time=  11.0s\n",
      "[CV] END ..max_depth=15, max_features=log2, n_estimators=100; total time=   9.4s\n",
      "[CV] END ..max_depth=15, max_features=log2, n_estimators=100; total time=   9.4s\n",
      "[CV] END ..max_depth=15, max_features=log2, n_estimators=200; total time=  18.5s\n",
      "[CV] END ..max_depth=15, max_features=log2, n_estimators=200; total time=  21.4s\n",
      "[CV] END ..max_depth=15, max_features=log2, n_estimators=200; total time=  18.6s\n",
      "[CV] END max_depth=None, max_features=None, n_estimators=200; total time= 1.6min\n",
      "[CV] END ...max_depth=15, max_features=None, n_estimators=50; total time=  22.9s\n",
      "[CV] END max_depth=None, max_features=None, n_estimators=200; total time= 1.6min\n",
      "[CV] END ...max_depth=15, max_features=None, n_estimators=50; total time=  29.4s\n",
      "[CV] END ...max_depth=15, max_features=None, n_estimators=50; total time=  24.1s\n",
      "[CV] END ...max_depth=20, max_features=sqrt, n_estimators=50; total time=   7.1s\n",
      "[CV] END max_depth=None, max_features=None, n_estimators=200; total time= 2.0min\n",
      "[CV] END ...max_depth=20, max_features=sqrt, n_estimators=50; total time=   5.5s\n",
      "[CV] END ...max_depth=20, max_features=sqrt, n_estimators=50; total time=   7.2s\n",
      "[CV] END ..max_depth=20, max_features=sqrt, n_estimators=100; total time=  20.0s\n",
      "[CV] END ..max_depth=15, max_features=None, n_estimators=100; total time=  53.5s\n",
      "[CV] END ..max_depth=20, max_features=sqrt, n_estimators=100; total time=  18.3s\n",
      "[CV] END ..max_depth=15, max_features=None, n_estimators=100; total time=  54.4s\n",
      "[CV] END ..max_depth=20, max_features=sqrt, n_estimators=100; total time=  13.4s\n",
      "[CV] END ..max_depth=15, max_features=None, n_estimators=100; total time= 1.1min\n",
      "[CV] END ...max_depth=20, max_features=log2, n_estimators=50; total time=   6.6s\n",
      "[CV] END ...max_depth=20, max_features=log2, n_estimators=50; total time=   7.4s\n",
      "[CV] END ...max_depth=20, max_features=log2, n_estimators=50; total time=   5.7s\n",
      "[CV] END ..max_depth=20, max_features=sqrt, n_estimators=200; total time=  25.6s\n",
      "[CV] END ..max_depth=20, max_features=sqrt, n_estimators=200; total time=  31.0s\n",
      "[CV] END ..max_depth=20, max_features=log2, n_estimators=100; total time=  13.2s\n",
      "[CV] END ..max_depth=20, max_features=sqrt, n_estimators=200; total time=  26.1s\n",
      "[CV] END ..max_depth=20, max_features=log2, n_estimators=100; total time=  11.6s\n",
      "[CV] END ..max_depth=20, max_features=log2, n_estimators=100; total time=  12.3s\n",
      "[CV] END ..max_depth=20, max_features=log2, n_estimators=200; total time=  23.1s\n",
      "[CV] END ..max_depth=20, max_features=log2, n_estimators=200; total time=  23.9s\n",
      "[CV] END ..max_depth=20, max_features=log2, n_estimators=200; total time=  26.9s\n",
      "[CV] END ..max_depth=15, max_features=None, n_estimators=200; total time= 1.8min\n",
      "[CV] END ..max_depth=15, max_features=None, n_estimators=200; total time= 1.8min\n",
      "[CV] END ...max_depth=20, max_features=None, n_estimators=50; total time=  26.2s\n",
      "[CV] END ...max_depth=20, max_features=None, n_estimators=50; total time=  33.9s\n",
      "[CV] END ...max_depth=20, max_features=None, n_estimators=50; total time=  27.7s\n",
      "[CV] END ..max_depth=15, max_features=None, n_estimators=200; total time= 2.3min\n",
      "[CV] END ..max_depth=20, max_features=None, n_estimators=100; total time=  48.3s\n",
      "[CV] END ..max_depth=20, max_features=None, n_estimators=100; total time=  47.1s\n",
      "[CV] END ..max_depth=20, max_features=None, n_estimators=100; total time=  57.9s\n",
      "[CV] END ..max_depth=20, max_features=None, n_estimators=200; total time= 1.2min\n",
      "[CV] END ..max_depth=20, max_features=None, n_estimators=200; total time= 1.2min\n",
      "[CV] END ..max_depth=20, max_features=None, n_estimators=200; total time= 1.5min\n"
     ]
    },
    {
     "name": "stderr",
     "output_type": "stream",
     "text": [
      "/opt/anaconda3/lib/python3.12/site-packages/sklearn/model_selection/_search.py:320: UserWarning: The total space of parameters 24 is smaller than n_iter=100. Running 24 iterations. For exhaustive searches, use GridSearchCV.\n",
      "  warnings.warn(\n"
     ]
    },
    {
     "name": "stdout",
     "output_type": "stream",
     "text": [
      "Fitting 3 folds for each of 24 candidates, totalling 72 fits\n",
      "[CV] END ....algorithm=auto, n_neighbors=3, weights=distance; total time=   9.3s\n",
      "[CV] END ....algorithm=auto, n_neighbors=3, weights=distance; total time=   9.3s\n",
      "[CV] END ....algorithm=auto, n_neighbors=3, weights=distance; total time=   9.4s\n",
      "[CV] END .....algorithm=auto, n_neighbors=3, weights=uniform; total time=   9.6s\n",
      "[CV] END .....algorithm=auto, n_neighbors=3, weights=uniform; total time=   9.6s\n",
      "[CV] END .....algorithm=auto, n_neighbors=5, weights=uniform; total time=   9.6s\n",
      "[CV] END .....algorithm=auto, n_neighbors=3, weights=uniform; total time=   9.7s\n",
      "[CV] END .....algorithm=auto, n_neighbors=5, weights=uniform; total time=   9.6s\n",
      "[CV] END ....algorithm=auto, n_neighbors=5, weights=distance; total time=  12.5s\n",
      "[CV] END ....algorithm=auto, n_neighbors=5, weights=distance; total time=  12.5s\n",
      "[CV] END .....algorithm=auto, n_neighbors=7, weights=uniform; total time=  12.6s\n",
      "[CV] END ....algorithm=auto, n_neighbors=7, weights=distance; total time=  12.6s\n",
      "[CV] END .....algorithm=auto, n_neighbors=5, weights=uniform; total time=  13.0s\n",
      "[CV] END .....algorithm=auto, n_neighbors=7, weights=uniform; total time=  12.8s\n",
      "[CV] END ....algorithm=auto, n_neighbors=5, weights=distance; total time=  13.0s\n",
      "[CV] END .....algorithm=auto, n_neighbors=7, weights=uniform; total time=  12.8s\n",
      "[CV] END ....algorithm=auto, n_neighbors=7, weights=distance; total time=  11.4s\n",
      "[CV] END ....algorithm=auto, n_neighbors=9, weights=distance; total time=  11.1s\n",
      "[CV] END ....algorithm=auto, n_neighbors=7, weights=distance; total time=  11.7s\n",
      "[CV] END .....algorithm=auto, n_neighbors=9, weights=uniform; total time=  11.3s\n",
      "[CV] END ....algorithm=auto, n_neighbors=9, weights=distance; total time=  11.3s\n",
      "[CV] END .....algorithm=auto, n_neighbors=9, weights=uniform; total time=  11.5s\n",
      "[CV] END .....algorithm=auto, n_neighbors=9, weights=uniform; total time=  11.6s\n",
      "[CV] END ....algorithm=auto, n_neighbors=9, weights=distance; total time=  11.5s\n",
      "[CV] END algorithm=ball_tree, n_neighbors=3, weights=distance; total time=  52.7s\n",
      "[CV] END algorithm=ball_tree, n_neighbors=3, weights=uniform; total time=  53.9s\n",
      "[CV] END algorithm=ball_tree, n_neighbors=5, weights=uniform; total time=  59.6s\n",
      "[CV] END algorithm=ball_tree, n_neighbors=3, weights=distance; total time= 1.0min\n",
      "[CV] END algorithm=ball_tree, n_neighbors=3, weights=uniform; total time= 1.0min\n",
      "[CV] END algorithm=ball_tree, n_neighbors=3, weights=distance; total time= 1.0min\n",
      "[CV] END algorithm=ball_tree, n_neighbors=3, weights=uniform; total time= 1.1min\n",
      "[CV] END algorithm=ball_tree, n_neighbors=5, weights=uniform; total time= 1.1min\n",
      "[CV] END algorithm=ball_tree, n_neighbors=5, weights=distance; total time=  59.3s\n",
      "[CV] END algorithm=ball_tree, n_neighbors=5, weights=uniform; total time= 1.2min\n",
      "[CV] END algorithm=ball_tree, n_neighbors=7, weights=uniform; total time= 1.1min\n",
      "[CV] END algorithm=ball_tree, n_neighbors=5, weights=distance; total time= 1.1min\n",
      "[CV] END algorithm=ball_tree, n_neighbors=5, weights=distance; total time= 1.1min\n",
      "[CV] END algorithm=ball_tree, n_neighbors=7, weights=distance; total time= 1.0min\n",
      "[CV] END algorithm=ball_tree, n_neighbors=7, weights=uniform; total time= 1.2min\n",
      "[CV] END algorithm=ball_tree, n_neighbors=7, weights=uniform; total time= 1.2min\n",
      "[CV] END algorithm=ball_tree, n_neighbors=7, weights=distance; total time= 1.2min\n",
      "[CV] END algorithm=ball_tree, n_neighbors=9, weights=uniform; total time= 1.1min\n",
      "[CV] END algorithm=ball_tree, n_neighbors=7, weights=distance; total time= 1.2min\n",
      "[CV] END algorithm=ball_tree, n_neighbors=9, weights=distance; total time= 1.1min\n",
      "[CV] END ..algorithm=kd_tree, n_neighbors=3, weights=uniform; total time=  17.5s\n",
      "[CV] END algorithm=ball_tree, n_neighbors=9, weights=uniform; total time= 1.2min\n",
      "[CV] END algorithm=ball_tree, n_neighbors=9, weights=uniform; total time= 1.3min\n",
      "[CV] END algorithm=ball_tree, n_neighbors=9, weights=distance; total time= 1.2min\n",
      "[CV] END ..algorithm=kd_tree, n_neighbors=3, weights=uniform; total time=  17.0s\n",
      "[CV] END algorithm=ball_tree, n_neighbors=9, weights=distance; total time= 1.2min\n",
      "[CV] END .algorithm=kd_tree, n_neighbors=3, weights=distance; total time=  16.3s\n",
      "[CV] END ..algorithm=kd_tree, n_neighbors=3, weights=uniform; total time=  17.0s\n",
      "[CV] END .algorithm=kd_tree, n_neighbors=3, weights=distance; total time=  15.7s\n",
      "[CV] END .algorithm=kd_tree, n_neighbors=3, weights=distance; total time=  16.3s\n",
      "[CV] END ..algorithm=kd_tree, n_neighbors=5, weights=uniform; total time=  22.5s\n",
      "[CV] END ..algorithm=kd_tree, n_neighbors=5, weights=uniform; total time=  22.3s\n",
      "[CV] END ..algorithm=kd_tree, n_neighbors=5, weights=uniform; total time=  21.4s\n",
      "[CV] END .algorithm=kd_tree, n_neighbors=5, weights=distance; total time=  21.4s\n",
      "[CV] END .algorithm=kd_tree, n_neighbors=5, weights=distance; total time=  20.4s\n",
      "[CV] END .algorithm=kd_tree, n_neighbors=5, weights=distance; total time=  20.9s\n",
      "[CV] END ..algorithm=kd_tree, n_neighbors=7, weights=uniform; total time=  25.4s\n",
      "[CV] END ..algorithm=kd_tree, n_neighbors=7, weights=uniform; total time=  25.5s\n",
      "[CV] END ..algorithm=kd_tree, n_neighbors=7, weights=uniform; total time=  24.3s\n",
      "[CV] END .algorithm=kd_tree, n_neighbors=7, weights=distance; total time=  24.6s\n",
      "[CV] END .algorithm=kd_tree, n_neighbors=7, weights=distance; total time=  24.6s\n",
      "[CV] END .algorithm=kd_tree, n_neighbors=7, weights=distance; total time=  23.1s\n",
      "[CV] END ..algorithm=kd_tree, n_neighbors=9, weights=uniform; total time=  26.6s\n",
      "[CV] END ..algorithm=kd_tree, n_neighbors=9, weights=uniform; total time=  27.1s\n",
      "[CV] END .algorithm=kd_tree, n_neighbors=9, weights=distance; total time=  21.4s\n",
      "[CV] END ..algorithm=kd_tree, n_neighbors=9, weights=uniform; total time=  21.9s\n",
      "[CV] END .algorithm=kd_tree, n_neighbors=9, weights=distance; total time=  14.8s\n",
      "[CV] END .algorithm=kd_tree, n_neighbors=9, weights=distance; total time=  13.8s\n",
      "---------------- Best Params for XGBoost -------------------\n",
      "{'min_child_weight': 1, 'max_depth': 9}\n",
      "---------------- Best Params for RF -------------------\n",
      "{'n_estimators': 100, 'max_features': 'sqrt', 'max_depth': None}\n",
      "---------------- Best Params for KNN -------------------\n",
      "{'weights': 'distance', 'n_neighbors': 3, 'algorithm': 'auto'}\n"
     ]
    }
   ],
   "source": [
    "from sklearn.model_selection import RandomizedSearchCV\n",
    "\n",
    "model_param = {}\n",
    "for name, model, params in randomcv_models:\n",
    "    random = RandomizedSearchCV(estimator=model,\n",
    "                                   param_distributions=params,\n",
    "                                   n_iter=100,\n",
    "                                   cv=3,\n",
    "                                   verbose=2, \n",
    "                                   n_jobs=-1)\n",
    "    random.fit(X_res, y_res)\n",
    "    model_param[name] = random.best_params_\n",
    "\n",
    "for model_name in model_param:\n",
    "    print(f\"---------------- Best Params for {model_name} -------------------\")\n",
    "    print(model_param[model_name])"
   ]
  },
  {
   "cell_type": "code",
   "execution_count": 128,
   "metadata": {},
   "outputs": [
    {
     "data": {
      "text/plain": [
       "{'XGBoost': {'min_child_weight': 1, 'max_depth': 9},\n",
       " 'RF': {'n_estimators': 100, 'max_features': 'sqrt', 'max_depth': None},\n",
       " 'KNN': {'weights': 'distance', 'n_neighbors': 3, 'algorithm': 'auto'}}"
      ]
     },
     "execution_count": 128,
     "metadata": {},
     "output_type": "execute_result"
    }
   ],
   "source": [
    "model_param"
   ]
  },
  {
   "cell_type": "code",
   "execution_count": 129,
   "metadata": {},
   "outputs": [
    {
     "name": "stdout",
     "output_type": "stream",
     "text": [
      "Random Forest Classifier\n",
      "Model performance for Training set\n",
      "- Accuracy: 1.0000\n",
      "- F1 score: 1.0000\n",
      "- Precision: 1.0000\n",
      "- Recall: 1.0000\n",
      "- Roc Auc Score: 1.0000\n",
      "----------------------------------\n",
      "Model performance for Test set\n",
      "- Accuracy: 0.9807\n",
      "- F1 score: 0.9829\n",
      "- Precision: 0.9764\n",
      "- Recall: 0.9895\n",
      "- Roc Auc Score: 0.9796\n",
      "===================================\n",
      "\n",
      "\n",
      "KNeighborsClassifier\n",
      "Model performance for Training set\n",
      "- Accuracy: 1.0000\n",
      "- F1 score: 1.0000\n",
      "- Precision: 1.0000\n",
      "- Recall: 1.0000\n",
      "- Roc Auc Score: 1.0000\n",
      "----------------------------------\n",
      "Model performance for Test set\n",
      "- Accuracy: 0.9874\n",
      "- F1 score: 0.9888\n",
      "- Precision: 0.9797\n",
      "- Recall: 0.9981\n",
      "- Roc Auc Score: 0.9859\n",
      "===================================\n",
      "\n",
      "\n",
      "XGBClassifier\n",
      "Model performance for Training set\n",
      "- Accuracy: 1.0000\n",
      "- F1 score: 1.0000\n",
      "- Precision: 1.0000\n",
      "- Recall: 1.0000\n",
      "- Roc Auc Score: 1.0000\n",
      "----------------------------------\n",
      "Model performance for Test set\n",
      "- Accuracy: 0.9810\n",
      "- F1 score: 0.9830\n",
      "- Precision: 0.9815\n",
      "- Recall: 0.9846\n",
      "- Roc Auc Score: 0.9805\n",
      "===================================\n",
      "\n",
      "\n"
     ]
    }
   ],
   "source": [
    "from sklearn.metrics import roc_auc_score,roc_curve\n",
    "best_models = {\n",
    "    \"Random Forest Classifier\": RandomForestClassifier(**model_param['RF']),\n",
    "    \"KNeighborsClassifier\": KNeighborsClassifier(**model_param['KNN']),\n",
    "    \"XGBClassifier\": XGBClassifier(**model_param['XGBoost'],n_jobs=-1),\n",
    "}\n",
    "tuned_report =evaluate_models(X=X_res, y=y_res, models=best_models)"
   ]
  },
  {
   "cell_type": "code",
   "execution_count": 130,
   "metadata": {},
   "outputs": [
    {
     "data": {
      "text/html": [
       "<div>\n",
       "<style scoped>\n",
       "    .dataframe tbody tr th:only-of-type {\n",
       "        vertical-align: middle;\n",
       "    }\n",
       "\n",
       "    .dataframe tbody tr th {\n",
       "        vertical-align: top;\n",
       "    }\n",
       "\n",
       "    .dataframe thead th {\n",
       "        text-align: right;\n",
       "    }\n",
       "</style>\n",
       "<table border=\"1\" class=\"dataframe\">\n",
       "  <thead>\n",
       "    <tr style=\"text-align: right;\">\n",
       "      <th></th>\n",
       "      <th>Model Name</th>\n",
       "      <th>Accuracy</th>\n",
       "    </tr>\n",
       "  </thead>\n",
       "  <tbody>\n",
       "    <tr>\n",
       "      <th>1</th>\n",
       "      <td>KNeighborsClassifier</td>\n",
       "      <td>0.987360</td>\n",
       "    </tr>\n",
       "    <tr>\n",
       "      <th>2</th>\n",
       "      <td>XGBClassifier</td>\n",
       "      <td>0.980998</td>\n",
       "    </tr>\n",
       "    <tr>\n",
       "      <th>0</th>\n",
       "      <td>Random Forest Classifier</td>\n",
       "      <td>0.980747</td>\n",
       "    </tr>\n",
       "  </tbody>\n",
       "</table>\n",
       "</div>"
      ],
      "text/plain": [
       "                 Model Name  Accuracy\n",
       "1      KNeighborsClassifier  0.987360\n",
       "2             XGBClassifier  0.980998\n",
       "0  Random Forest Classifier  0.980747"
      ]
     },
     "execution_count": 130,
     "metadata": {},
     "output_type": "execute_result"
    }
   ],
   "source": [
    "tuned_report"
   ]
  },
  {
   "cell_type": "code",
   "execution_count": 131,
   "metadata": {},
   "outputs": [
    {
     "name": "stdout",
     "output_type": "stream",
     "text": [
      "FINAL MODEL 'KNN'\n",
      "Accuracy Score value: 0.9874\n",
      "              precision    recall  f1-score   support\n",
      "\n",
      "           0       1.00      0.97      0.99      5265\n",
      "           1       0.98      1.00      0.99      6681\n",
      "\n",
      "    accuracy                           0.99     11946\n",
      "   macro avg       0.99      0.99      0.99     11946\n",
      "weighted avg       0.99      0.99      0.99     11946\n",
      "\n"
     ]
    }
   ],
   "source": [
    "best_model = KNeighborsClassifier(**model_param['KNN'])\n",
    "best_model = best_model.fit(X_train,y_train)\n",
    "y_pred = best_model.predict(X_test)\n",
    "score = accuracy_score(y_test,y_pred)\n",
    "cr = classification_report(y_test,y_pred)\n",
    "\n",
    "print(\"FINAL MODEL 'KNN'\")\n",
    "print (\"Accuracy Score value: {:.4f}\".format(score))\n",
    "print (cr)"
   ]
  },
  {
   "cell_type": "code",
   "execution_count": 132,
   "metadata": {},
   "outputs": [
    {
     "data": {
      "text/plain": [
       "<sklearn.metrics._plot.confusion_matrix.ConfusionMatrixDisplay at 0x313401bb0>"
      ]
     },
     "execution_count": 132,
     "metadata": {},
     "output_type": "execute_result"
    },
    {
     "data": {
      "image/png": "[encoded data removed]",
      "text/plain": [
       "<Figure size 640x480 with 2 Axes>"
      ]
     },
     "metadata": {},
     "output_type": "display_data"
    }
   ],
   "source": [
    "from sklearn.metrics import ConfusionMatrixDisplay\n",
    "ConfusionMatrixDisplay.from_estimator(best_model, X_test, y_test)"
   ]
  },
  {
   "cell_type": "code",
   "execution_count": null,
   "metadata": {},
   "outputs": [],
   "source": []
  }
 ],
 "metadata": {
  "kernelspec": {
   "display_name": "base",
   "language": "python",
   "name": "python3"
  },
  "language_info": {
   "codemirror_mode": {
    "name": "ipython",
    "version": 3
   },
   "file_extension": ".py",
   "mimetype": "text/x-python",
   "name": "python",
   "nbconvert_exporter": "python",
   "pygments_lexer": "ipython3",
   "version": "3.12.7"
  }
 },
 "nbformat": 4,
 "nbformat_minor": 2
}
